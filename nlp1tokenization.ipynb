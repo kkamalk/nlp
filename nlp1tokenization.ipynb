{
  "nbformat": 4,
  "nbformat_minor": 0,
  "metadata": {
    "colab": {
      "provenance": [],
      "collapsed_sections": [
        "mO3sLdPsDuiH",
        "7zDpqSBhHehj",
        "OiGCuxwKHjRi",
        "shIDiWBnId5M",
        "l3FJUeFAJS6P"
      ]
    },
    "kernelspec": {
      "name": "python3",
      "display_name": "Python 3"
    },
    "language_info": {
      "name": "python"
    }
  },
  "cells": [
    {
      "cell_type": "code",
      "execution_count": 14,
      "metadata": {
        "id": "Zj2E42ab1Sxr"
      },
      "outputs": [],
      "source": [
        "text= \"\"\"Indian rivers can be classified into four major groups: Himalayan rivers, Deccan rivers, coastal rivers and inland drainage rivers.\n",
        "\n",
        "Himalayan rivers are formed by the melting of snow and glaciers and flow continuously throughout the year. During the monsoon months, \n",
        "the Himalayas experience frequent floods due to heavy rainfall. \n",
        "The rivers of the Dekkan, on the other hand, are rain-fed and therefore fluctuate in volume. Coastal rivers are short and have a limited watershed. \n",
        "The inland drainage streams of western Rajasthan are few, most of them short.\n",
        "There are 12 major rivers in the country. Brahmaputra river is a transboundary river.\n",
        "It originates from Tibet and enters India from Arunachal Pradesh.\n",
        "It passes through Assam before finally reaching the Bay of Bengal through Bangladesh. \n",
        "River Ganga is the longest river in India and is considered to be the most peaceful river in the country. \n",
        "It has several tributaries, including the Yamuna River, which is the only body of water near the national capital, New Delhi. \"\"\"\n"
      ]
    },
    {
      "cell_type": "code",
      "source": [
        "text.split()"
      ],
      "metadata": {
        "colab": {
          "base_uri": "https://localhost:8080/"
        },
        "id": "Fp81jDl32yfj",
        "outputId": "5f508ed7-7c7c-4476-f7cb-0bd94129d4ec"
      },
      "execution_count": 15,
      "outputs": [
        {
          "output_type": "execute_result",
          "data": {
            "text/plain": [
              "['Indian',\n",
              " 'rivers',\n",
              " 'can',\n",
              " 'be',\n",
              " 'classified',\n",
              " 'into',\n",
              " 'four',\n",
              " 'major',\n",
              " 'groups:',\n",
              " 'Himalayan',\n",
              " 'rivers,',\n",
              " 'Deccan',\n",
              " 'rivers,',\n",
              " 'coastal',\n",
              " 'rivers',\n",
              " 'and',\n",
              " 'inland',\n",
              " 'drainage',\n",
              " 'rivers.',\n",
              " 'Himalayan',\n",
              " 'rivers',\n",
              " 'are',\n",
              " 'formed',\n",
              " 'by',\n",
              " 'the',\n",
              " 'melting',\n",
              " 'of',\n",
              " 'snow',\n",
              " 'and',\n",
              " 'glaciers',\n",
              " 'and',\n",
              " 'flow',\n",
              " 'continuously',\n",
              " 'throughout',\n",
              " 'the',\n",
              " 'year.',\n",
              " 'During',\n",
              " 'the',\n",
              " 'monsoon',\n",
              " 'months,',\n",
              " 'the',\n",
              " 'Himalayas',\n",
              " 'experience',\n",
              " 'frequent',\n",
              " 'floods',\n",
              " 'due',\n",
              " 'to',\n",
              " 'heavy',\n",
              " 'rainfall.',\n",
              " 'The',\n",
              " 'rivers',\n",
              " 'of',\n",
              " 'the',\n",
              " 'Dekkan,',\n",
              " 'on',\n",
              " 'the',\n",
              " 'other',\n",
              " 'hand,',\n",
              " 'are',\n",
              " 'rain-fed',\n",
              " 'and',\n",
              " 'therefore',\n",
              " 'fluctuate',\n",
              " 'in',\n",
              " 'volume.',\n",
              " 'Coastal',\n",
              " 'rivers',\n",
              " 'are',\n",
              " 'short',\n",
              " 'and',\n",
              " 'have',\n",
              " 'a',\n",
              " 'limited',\n",
              " 'watershed.',\n",
              " 'The',\n",
              " 'inland',\n",
              " 'drainage',\n",
              " 'streams',\n",
              " 'of',\n",
              " 'western',\n",
              " 'Rajasthan',\n",
              " 'are',\n",
              " 'few,',\n",
              " 'most',\n",
              " 'of',\n",
              " 'them',\n",
              " 'short.',\n",
              " 'There',\n",
              " 'are',\n",
              " '12',\n",
              " 'major',\n",
              " 'rivers',\n",
              " 'in',\n",
              " 'the',\n",
              " 'country.',\n",
              " 'Brahmaputra',\n",
              " 'river',\n",
              " 'is',\n",
              " 'a',\n",
              " 'transboundary',\n",
              " 'river.',\n",
              " 'It',\n",
              " 'originates',\n",
              " 'from',\n",
              " 'Tibet',\n",
              " 'and',\n",
              " 'enters',\n",
              " 'India',\n",
              " 'from',\n",
              " 'Arunachal',\n",
              " 'Pradesh.',\n",
              " 'It',\n",
              " 'passes',\n",
              " 'through',\n",
              " 'Assam',\n",
              " 'before',\n",
              " 'finally',\n",
              " 'reaching',\n",
              " 'the',\n",
              " 'Bay',\n",
              " 'of',\n",
              " 'Bengal',\n",
              " 'through',\n",
              " 'Bangladesh.',\n",
              " 'River',\n",
              " 'Ganga',\n",
              " 'is',\n",
              " 'the',\n",
              " 'longest',\n",
              " 'river',\n",
              " 'in',\n",
              " 'India',\n",
              " 'and',\n",
              " 'is',\n",
              " 'considered',\n",
              " 'to',\n",
              " 'be',\n",
              " 'the',\n",
              " 'most',\n",
              " 'peaceful',\n",
              " 'river',\n",
              " 'in',\n",
              " 'the',\n",
              " 'country.',\n",
              " 'It',\n",
              " 'has',\n",
              " 'several',\n",
              " 'tributaries,',\n",
              " 'including',\n",
              " 'the',\n",
              " 'Yamuna',\n",
              " 'River,',\n",
              " 'which',\n",
              " 'is',\n",
              " 'the',\n",
              " 'only',\n",
              " 'body',\n",
              " 'of',\n",
              " 'water',\n",
              " 'near',\n",
              " 'the',\n",
              " 'national',\n",
              " 'capital,',\n",
              " 'New',\n",
              " 'Delhi.']"
            ]
          },
          "metadata": {},
          "execution_count": 15
        }
      ]
    },
    {
      "cell_type": "code",
      "source": [
        "# **tokenization with NLTK"
      ],
      "metadata": {
        "id": "Qp_cosaN21mv"
      },
      "execution_count": null,
      "outputs": []
    },
    {
      "cell_type": "code",
      "source": [
        "pip install nltk"
      ],
      "metadata": {
        "colab": {
          "base_uri": "https://localhost:8080/"
        },
        "id": "cTejZY6W3bs5",
        "outputId": "9151464f-766b-443f-aaf6-4a1d13bdd77e"
      },
      "execution_count": 16,
      "outputs": [
        {
          "output_type": "stream",
          "name": "stdout",
          "text": [
            "Looking in indexes: https://pypi.org/simple, https://us-python.pkg.dev/colab-wheels/public/simple/\n",
            "Requirement already satisfied: nltk in /usr/local/lib/python3.8/dist-packages (3.7)\n",
            "Requirement already satisfied: joblib in /usr/local/lib/python3.8/dist-packages (from nltk) (1.2.0)\n",
            "Requirement already satisfied: click in /usr/local/lib/python3.8/dist-packages (from nltk) (7.1.2)\n",
            "Requirement already satisfied: regex>=2021.8.3 in /usr/local/lib/python3.8/dist-packages (from nltk) (2022.6.2)\n",
            "Requirement already satisfied: tqdm in /usr/local/lib/python3.8/dist-packages (from nltk) (4.64.1)\n"
          ]
        }
      ]
    },
    {
      "cell_type": "code",
      "source": [
        "import nltk"
      ],
      "metadata": {
        "id": "uK_vteHT3nKU"
      },
      "execution_count": 17,
      "outputs": []
    },
    {
      "cell_type": "code",
      "source": [
        "nltk.download('punkt')\n",
        "from nltk.tokenize import word_tokenize\n",
        "word_tokenize(text)"
      ],
      "metadata": {
        "colab": {
          "base_uri": "https://localhost:8080/"
        },
        "id": "SpMSXXil3q8_",
        "outputId": "3561c333-a082-473f-9aab-787d76f4abd1"
      },
      "execution_count": 18,
      "outputs": [
        {
          "output_type": "stream",
          "name": "stderr",
          "text": [
            "[nltk_data] Downloading package punkt to /root/nltk_data...\n",
            "[nltk_data]   Unzipping tokenizers/punkt.zip.\n"
          ]
        },
        {
          "output_type": "execute_result",
          "data": {
            "text/plain": [
              "['Indian',\n",
              " 'rivers',\n",
              " 'can',\n",
              " 'be',\n",
              " 'classified',\n",
              " 'into',\n",
              " 'four',\n",
              " 'major',\n",
              " 'groups',\n",
              " ':',\n",
              " 'Himalayan',\n",
              " 'rivers',\n",
              " ',',\n",
              " 'Deccan',\n",
              " 'rivers',\n",
              " ',',\n",
              " 'coastal',\n",
              " 'rivers',\n",
              " 'and',\n",
              " 'inland',\n",
              " 'drainage',\n",
              " 'rivers',\n",
              " '.',\n",
              " 'Himalayan',\n",
              " 'rivers',\n",
              " 'are',\n",
              " 'formed',\n",
              " 'by',\n",
              " 'the',\n",
              " 'melting',\n",
              " 'of',\n",
              " 'snow',\n",
              " 'and',\n",
              " 'glaciers',\n",
              " 'and',\n",
              " 'flow',\n",
              " 'continuously',\n",
              " 'throughout',\n",
              " 'the',\n",
              " 'year',\n",
              " '.',\n",
              " 'During',\n",
              " 'the',\n",
              " 'monsoon',\n",
              " 'months',\n",
              " ',',\n",
              " 'the',\n",
              " 'Himalayas',\n",
              " 'experience',\n",
              " 'frequent',\n",
              " 'floods',\n",
              " 'due',\n",
              " 'to',\n",
              " 'heavy',\n",
              " 'rainfall',\n",
              " '.',\n",
              " 'The',\n",
              " 'rivers',\n",
              " 'of',\n",
              " 'the',\n",
              " 'Dekkan',\n",
              " ',',\n",
              " 'on',\n",
              " 'the',\n",
              " 'other',\n",
              " 'hand',\n",
              " ',',\n",
              " 'are',\n",
              " 'rain-fed',\n",
              " 'and',\n",
              " 'therefore',\n",
              " 'fluctuate',\n",
              " 'in',\n",
              " 'volume',\n",
              " '.',\n",
              " 'Coastal',\n",
              " 'rivers',\n",
              " 'are',\n",
              " 'short',\n",
              " 'and',\n",
              " 'have',\n",
              " 'a',\n",
              " 'limited',\n",
              " 'watershed',\n",
              " '.',\n",
              " 'The',\n",
              " 'inland',\n",
              " 'drainage',\n",
              " 'streams',\n",
              " 'of',\n",
              " 'western',\n",
              " 'Rajasthan',\n",
              " 'are',\n",
              " 'few',\n",
              " ',',\n",
              " 'most',\n",
              " 'of',\n",
              " 'them',\n",
              " 'short',\n",
              " '.',\n",
              " 'There',\n",
              " 'are',\n",
              " '12',\n",
              " 'major',\n",
              " 'rivers',\n",
              " 'in',\n",
              " 'the',\n",
              " 'country',\n",
              " '.',\n",
              " 'Brahmaputra',\n",
              " 'river',\n",
              " 'is',\n",
              " 'a',\n",
              " 'transboundary',\n",
              " 'river',\n",
              " '.',\n",
              " 'It',\n",
              " 'originates',\n",
              " 'from',\n",
              " 'Tibet',\n",
              " 'and',\n",
              " 'enters',\n",
              " 'India',\n",
              " 'from',\n",
              " 'Arunachal',\n",
              " 'Pradesh',\n",
              " '.',\n",
              " 'It',\n",
              " 'passes',\n",
              " 'through',\n",
              " 'Assam',\n",
              " 'before',\n",
              " 'finally',\n",
              " 'reaching',\n",
              " 'the',\n",
              " 'Bay',\n",
              " 'of',\n",
              " 'Bengal',\n",
              " 'through',\n",
              " 'Bangladesh',\n",
              " '.',\n",
              " 'River',\n",
              " 'Ganga',\n",
              " 'is',\n",
              " 'the',\n",
              " 'longest',\n",
              " 'river',\n",
              " 'in',\n",
              " 'India',\n",
              " 'and',\n",
              " 'is',\n",
              " 'considered',\n",
              " 'to',\n",
              " 'be',\n",
              " 'the',\n",
              " 'most',\n",
              " 'peaceful',\n",
              " 'river',\n",
              " 'in',\n",
              " 'the',\n",
              " 'country',\n",
              " '.',\n",
              " 'It',\n",
              " 'has',\n",
              " 'several',\n",
              " 'tributaries',\n",
              " ',',\n",
              " 'including',\n",
              " 'the',\n",
              " 'Yamuna',\n",
              " 'River',\n",
              " ',',\n",
              " 'which',\n",
              " 'is',\n",
              " 'the',\n",
              " 'only',\n",
              " 'body',\n",
              " 'of',\n",
              " 'water',\n",
              " 'near',\n",
              " 'the',\n",
              " 'national',\n",
              " 'capital',\n",
              " ',',\n",
              " 'New',\n",
              " 'Delhi',\n",
              " '.']"
            ]
          },
          "metadata": {},
          "execution_count": 18
        }
      ]
    },
    {
      "cell_type": "code",
      "source": [
        "from nltk.tokenize import sent_tokenize\n",
        "sent_tokenize(text)"
      ],
      "metadata": {
        "colab": {
          "base_uri": "https://localhost:8080/"
        },
        "id": "jQjTJd4O3xf2",
        "outputId": "d1f9f6ba-9434-4133-d861-dbd936302acb"
      },
      "execution_count": null,
      "outputs": [
        {
          "output_type": "execute_result",
          "data": {
            "text/plain": [
              "['Indian rivers can be classified into four major groups: Himalayan rivers, Deccan rivers, coastal rivers and inland drainage rivers.',\n",
              " 'Himalayan rivers are formed by the melting of snow and glaciers and flow continuously throughout the year.',\n",
              " 'During the monsoon months, \\nthe Himalayas experience frequent floods due to heavy rainfall.',\n",
              " 'The rivers of the Dekkan, on the other hand, are rain-fed and therefore fluctuate in volume.',\n",
              " 'Coastal rivers are short and have a limited watershed.',\n",
              " 'The inland drainage streams of western Rajasthan are few, most of them short.',\n",
              " 'There are 12 major rivers in the country.',\n",
              " 'Brahmaputra river is a transboundary river.',\n",
              " 'It originates from Tibet and enters India from Arunachal Pradesh.',\n",
              " 'It passes through Assam before finally reaching the Bay of Bengal through Bangladesh.',\n",
              " 'River Ganga is the longest river in India and is considered to be the most peaceful river in the country.',\n",
              " 'It has several tributaries, including the Yamuna River, which is the only body of water near the national capital, New Delhi.']"
            ]
          },
          "metadata": {},
          "execution_count": 15
        }
      ]
    },
    {
      "cell_type": "code",
      "source": [
        "## spacy ==is basically written by cytahn\n"
      ],
      "metadata": {
        "id": "aagpnOi94hbb"
      },
      "execution_count": null,
      "outputs": []
    },
    {
      "cell_type": "code",
      "source": [
        "pip install spacy"
      ],
      "metadata": {
        "colab": {
          "base_uri": "https://localhost:8080/"
        },
        "id": "qVmrvvaw4_SR",
        "outputId": "3c17417d-2c84-4f3a-fa70-cb1a28e7f30b"
      },
      "execution_count": 19,
      "outputs": [
        {
          "output_type": "stream",
          "name": "stdout",
          "text": [
            "Looking in indexes: https://pypi.org/simple, https://us-python.pkg.dev/colab-wheels/public/simple/\n",
            "Requirement already satisfied: spacy in /usr/local/lib/python3.8/dist-packages (3.4.4)\n",
            "Requirement already satisfied: cymem<2.1.0,>=2.0.2 in /usr/local/lib/python3.8/dist-packages (from spacy) (2.0.7)\n",
            "Requirement already satisfied: pathy>=0.3.5 in /usr/local/lib/python3.8/dist-packages (from spacy) (0.10.1)\n",
            "Requirement already satisfied: wasabi<1.1.0,>=0.9.1 in /usr/local/lib/python3.8/dist-packages (from spacy) (0.10.1)\n",
            "Requirement already satisfied: numpy>=1.15.0 in /usr/local/lib/python3.8/dist-packages (from spacy) (1.21.6)\n",
            "Requirement already satisfied: srsly<3.0.0,>=2.4.3 in /usr/local/lib/python3.8/dist-packages (from spacy) (2.4.5)\n",
            "Requirement already satisfied: tqdm<5.0.0,>=4.38.0 in /usr/local/lib/python3.8/dist-packages (from spacy) (4.64.1)\n",
            "Requirement already satisfied: thinc<8.2.0,>=8.1.0 in /usr/local/lib/python3.8/dist-packages (from spacy) (8.1.5)\n",
            "Requirement already satisfied: pydantic!=1.8,!=1.8.1,<1.11.0,>=1.7.4 in /usr/local/lib/python3.8/dist-packages (from spacy) (1.10.2)\n",
            "Requirement already satisfied: packaging>=20.0 in /usr/local/lib/python3.8/dist-packages (from spacy) (21.3)\n",
            "Requirement already satisfied: smart-open<7.0.0,>=5.2.1 in /usr/local/lib/python3.8/dist-packages (from spacy) (6.3.0)\n",
            "Requirement already satisfied: preshed<3.1.0,>=3.0.2 in /usr/local/lib/python3.8/dist-packages (from spacy) (3.0.8)\n",
            "Requirement already satisfied: spacy-legacy<3.1.0,>=3.0.10 in /usr/local/lib/python3.8/dist-packages (from spacy) (3.0.10)\n",
            "Requirement already satisfied: jinja2 in /usr/local/lib/python3.8/dist-packages (from spacy) (2.11.3)\n",
            "Requirement already satisfied: setuptools in /usr/local/lib/python3.8/dist-packages (from spacy) (57.4.0)\n",
            "Requirement already satisfied: catalogue<2.1.0,>=2.0.6 in /usr/local/lib/python3.8/dist-packages (from spacy) (2.0.8)\n",
            "Requirement already satisfied: typer<0.8.0,>=0.3.0 in /usr/local/lib/python3.8/dist-packages (from spacy) (0.7.0)\n",
            "Requirement already satisfied: langcodes<4.0.0,>=3.2.0 in /usr/local/lib/python3.8/dist-packages (from spacy) (3.3.0)\n",
            "Requirement already satisfied: requests<3.0.0,>=2.13.0 in /usr/local/lib/python3.8/dist-packages (from spacy) (2.23.0)\n",
            "Requirement already satisfied: murmurhash<1.1.0,>=0.28.0 in /usr/local/lib/python3.8/dist-packages (from spacy) (1.0.9)\n",
            "Requirement already satisfied: spacy-loggers<2.0.0,>=1.0.0 in /usr/local/lib/python3.8/dist-packages (from spacy) (1.0.4)\n",
            "Requirement already satisfied: pyparsing!=3.0.5,>=2.0.2 in /usr/local/lib/python3.8/dist-packages (from packaging>=20.0->spacy) (3.0.9)\n",
            "Requirement already satisfied: typing-extensions>=4.1.0 in /usr/local/lib/python3.8/dist-packages (from pydantic!=1.8,!=1.8.1,<1.11.0,>=1.7.4->spacy) (4.4.0)\n",
            "Requirement already satisfied: chardet<4,>=3.0.2 in /usr/local/lib/python3.8/dist-packages (from requests<3.0.0,>=2.13.0->spacy) (3.0.4)\n",
            "Requirement already satisfied: urllib3!=1.25.0,!=1.25.1,<1.26,>=1.21.1 in /usr/local/lib/python3.8/dist-packages (from requests<3.0.0,>=2.13.0->spacy) (1.24.3)\n",
            "Requirement already satisfied: certifi>=2017.4.17 in /usr/local/lib/python3.8/dist-packages (from requests<3.0.0,>=2.13.0->spacy) (2022.12.7)\n",
            "Requirement already satisfied: idna<3,>=2.5 in /usr/local/lib/python3.8/dist-packages (from requests<3.0.0,>=2.13.0->spacy) (2.10)\n",
            "Requirement already satisfied: confection<1.0.0,>=0.0.1 in /usr/local/lib/python3.8/dist-packages (from thinc<8.2.0,>=8.1.0->spacy) (0.0.3)\n",
            "Requirement already satisfied: blis<0.8.0,>=0.7.8 in /usr/local/lib/python3.8/dist-packages (from thinc<8.2.0,>=8.1.0->spacy) (0.7.9)\n",
            "Requirement already satisfied: click<9.0.0,>=7.1.1 in /usr/local/lib/python3.8/dist-packages (from typer<0.8.0,>=0.3.0->spacy) (7.1.2)\n",
            "Requirement already satisfied: MarkupSafe>=0.23 in /usr/local/lib/python3.8/dist-packages (from jinja2->spacy) (2.0.1)\n"
          ]
        }
      ]
    },
    {
      "cell_type": "code",
      "source": [
        "import spacy\n",
        "from spacy.lang.es import Spanish\n",
        "\n",
        "nlp=Spanish()\n"
      ],
      "metadata": {
        "id": "mYLr4OL14p8q"
      },
      "execution_count": 20,
      "outputs": []
    },
    {
      "cell_type": "code",
      "source": [
        "text_Spanish=\"\"\"Los ríos de la India se pueden clasificar en cuatro grupos principales: ríos del Himalaya, ríos Deccan, ríos costeros y ríos de drenaje interior.\n",
        "\n",
        "Los ríos del Himalaya se forman por el derretimiento de la nieve y los glaciares y fluyen continuamente durante todo el año. Durante los meses del monzón,\n",
        "el Himalaya experimenta inundaciones frecuentes debido a las fuertes lluvias.\n",
        "Los ríos del Dekkan, por otro lado, son de secano y, por lo tanto, fluctúan en volumen. Los ríos costeros son cortos y tienen una cuenca limitada.\n",
        "Las corrientes de drenaje del interior del oeste de Rajasthan son pocas, la mayoría de ellas cortas.\n",
        "Hay 12 ríos principales en el país. El río Brahmaputra es un río transfronterizo.\n",
        "Tiene su origen en el Tíbet y entra en la India desde Arunachal Pradesh.\n",
        "Pasa por Assam antes de llegar finalmente a la Bahía de Bengala a través de Bangladesh.\n",
        "El río Ganga es el río más largo de la India y se considera el río más pacífico del país.\n",
        "Tiene varios afluentes, incluido el río Yamuna, que es el único cuerpo de agua cerca de la capital nacional, Nueva Delhi. \"\"\"\n",
        "\n",
        "doc=nlp(text_Spanish)\n",
        "\n",
        "tokens=[x.text for x in doc]\n",
        "print(tokens)\n"
      ],
      "metadata": {
        "colab": {
          "base_uri": "https://localhost:8080/"
        },
        "id": "6tfsIJyz449n",
        "outputId": "ace9666f-7f1e-4065-9323-3f1210b8da48"
      },
      "execution_count": 21,
      "outputs": [
        {
          "output_type": "stream",
          "name": "stdout",
          "text": [
            "['Los', 'ríos', 'de', 'la', 'India', 'se', 'pueden', 'clasificar', 'en', 'cuatro', 'grupos', 'principales', ':', 'ríos', 'del', 'Himalaya', ',', 'ríos', 'Deccan', ',', 'ríos', 'costeros', 'y', 'ríos', 'de', 'drenaje', 'interior', '.', '\\n\\n', 'Los', 'ríos', 'del', 'Himalaya', 'se', 'forman', 'por', 'el', 'derretimiento', 'de', 'la', 'nieve', 'y', 'los', 'glaciares', 'y', 'fluyen', 'continuamente', 'durante', 'todo', 'el', 'año', '.', 'Durante', 'los', 'meses', 'del', 'monzón', ',', '\\n', 'el', 'Himalaya', 'experimenta', 'inundaciones', 'frecuentes', 'debido', 'a', 'las', 'fuertes', 'lluvias', '.', '\\n', 'Los', 'ríos', 'del', 'Dekkan', ',', 'por', 'otro', 'lado', ',', 'son', 'de', 'secano', 'y', ',', 'por', 'lo', 'tanto', ',', 'fluctúan', 'en', 'volumen', '.', 'Los', 'ríos', 'costeros', 'son', 'cortos', 'y', 'tienen', 'una', 'cuenca', 'limitada', '.', '\\n', 'Las', 'corrientes', 'de', 'drenaje', 'del', 'interior', 'del', 'oeste', 'de', 'Rajasthan', 'son', 'pocas', ',', 'la', 'mayoría', 'de', 'ellas', 'cortas', '.', '\\n', 'Hay', '12', 'ríos', 'principales', 'en', 'el', 'país', '.', 'El', 'río', 'Brahmaputra', 'es', 'un', 'río', 'transfronterizo', '.', '\\n', 'Tiene', 'su', 'origen', 'en', 'el', 'Tíbet', 'y', 'entra', 'en', 'la', 'India', 'desde', 'Arunachal', 'Pradesh', '.', '\\n', 'Pasa', 'por', 'Assam', 'antes', 'de', 'llegar', 'finalmente', 'a', 'la', 'Bahía', 'de', 'Bengala', 'a', 'través', 'de', 'Bangladesh', '.', '\\n', 'El', 'río', 'Ganga', 'es', 'el', 'río', 'más', 'largo', 'de', 'la', 'India', 'y', 'se', 'considera', 'el', 'río', 'más', 'pacífico', 'del', 'país', '.', '\\n', 'Tiene', 'varios', 'afluentes', ',', 'incluido', 'el', 'río', 'Yamuna', ',', 'que', 'es', 'el', 'único', 'cuerpo', 'de', 'agua', 'cerca', 'de', 'la', 'capital', 'nacional', ',', 'Nueva', 'Delhi', '.']\n"
          ]
        }
      ]
    },
    {
      "cell_type": "code",
      "source": [
        "## tokenization with genism"
      ],
      "metadata": {
        "id": "3s45DITz61ri"
      },
      "execution_count": null,
      "outputs": []
    },
    {
      "cell_type": "code",
      "source": [
        "from gensim.utils import tokenize\n",
        "print(list(tokenize(text)))"
      ],
      "metadata": {
        "colab": {
          "base_uri": "https://localhost:8080/"
        },
        "id": "D1AI7Poz7J4C",
        "outputId": "0a505661-8e34-4f41-ffe2-ac9f74e629c3"
      },
      "execution_count": 22,
      "outputs": [
        {
          "output_type": "stream",
          "name": "stdout",
          "text": [
            "['Indian', 'rivers', 'can', 'be', 'classified', 'into', 'four', 'major', 'groups', 'Himalayan', 'rivers', 'Deccan', 'rivers', 'coastal', 'rivers', 'and', 'inland', 'drainage', 'rivers', 'Himalayan', 'rivers', 'are', 'formed', 'by', 'the', 'melting', 'of', 'snow', 'and', 'glaciers', 'and', 'flow', 'continuously', 'throughout', 'the', 'year', 'During', 'the', 'monsoon', 'months', 'the', 'Himalayas', 'experience', 'frequent', 'floods', 'due', 'to', 'heavy', 'rainfall', 'The', 'rivers', 'of', 'the', 'Dekkan', 'on', 'the', 'other', 'hand', 'are', 'rain', 'fed', 'and', 'therefore', 'fluctuate', 'in', 'volume', 'Coastal', 'rivers', 'are', 'short', 'and', 'have', 'a', 'limited', 'watershed', 'The', 'inland', 'drainage', 'streams', 'of', 'western', 'Rajasthan', 'are', 'few', 'most', 'of', 'them', 'short', 'There', 'are', 'major', 'rivers', 'in', 'the', 'country', 'Brahmaputra', 'river', 'is', 'a', 'transboundary', 'river', 'It', 'originates', 'from', 'Tibet', 'and', 'enters', 'India', 'from', 'Arunachal', 'Pradesh', 'It', 'passes', 'through', 'Assam', 'before', 'finally', 'reaching', 'the', 'Bay', 'of', 'Bengal', 'through', 'Bangladesh', 'River', 'Ganga', 'is', 'the', 'longest', 'river', 'in', 'India', 'and', 'is', 'considered', 'to', 'be', 'the', 'most', 'peaceful', 'river', 'in', 'the', 'country', 'It', 'has', 'several', 'tributaries', 'including', 'the', 'Yamuna', 'River', 'which', 'is', 'the', 'only', 'body', 'of', 'water', 'near', 'the', 'national', 'capital', 'New', 'Delhi']\n"
          ]
        }
      ]
    },
    {
      "cell_type": "markdown",
      "source": [
        "#stopwords\n"
      ],
      "metadata": {
        "id": "DfnOrjnAAmbh"
      }
    },
    {
      "cell_type": "markdown",
      "source": [],
      "metadata": {
        "id": "3gQdlO_UAlZ0"
      }
    },
    {
      "cell_type": "code",
      "source": [
        "nltk.download('stopwords')\n"
      ],
      "metadata": {
        "colab": {
          "base_uri": "https://localhost:8080/"
        },
        "id": "z89b53d9_1pC",
        "outputId": "1b6df1fb-880c-4ec0-ac3b-8bf1caab9093"
      },
      "execution_count": 23,
      "outputs": [
        {
          "output_type": "stream",
          "name": "stderr",
          "text": [
            "[nltk_data] Downloading package stopwords to /root/nltk_data...\n",
            "[nltk_data]   Unzipping corpora/stopwords.zip.\n"
          ]
        },
        {
          "output_type": "execute_result",
          "data": {
            "text/plain": [
              "True"
            ]
          },
          "metadata": {},
          "execution_count": 23
        }
      ]
    },
    {
      "cell_type": "code",
      "source": [
        "from nltk.corpus import stopwords\n",
        "stp=stopwords.words('english')\n",
        "print(stp)"
      ],
      "metadata": {
        "colab": {
          "base_uri": "https://localhost:8080/"
        },
        "id": "J1za06ir__9h",
        "outputId": "d2a79551-e7f7-4f63-b29c-ea7491532f2e"
      },
      "execution_count": 24,
      "outputs": [
        {
          "output_type": "stream",
          "name": "stdout",
          "text": [
            "['i', 'me', 'my', 'myself', 'we', 'our', 'ours', 'ourselves', 'you', \"you're\", \"you've\", \"you'll\", \"you'd\", 'your', 'yours', 'yourself', 'yourselves', 'he', 'him', 'his', 'himself', 'she', \"she's\", 'her', 'hers', 'herself', 'it', \"it's\", 'its', 'itself', 'they', 'them', 'their', 'theirs', 'themselves', 'what', 'which', 'who', 'whom', 'this', 'that', \"that'll\", 'these', 'those', 'am', 'is', 'are', 'was', 'were', 'be', 'been', 'being', 'have', 'has', 'had', 'having', 'do', 'does', 'did', 'doing', 'a', 'an', 'the', 'and', 'but', 'if', 'or', 'because', 'as', 'until', 'while', 'of', 'at', 'by', 'for', 'with', 'about', 'against', 'between', 'into', 'through', 'during', 'before', 'after', 'above', 'below', 'to', 'from', 'up', 'down', 'in', 'out', 'on', 'off', 'over', 'under', 'again', 'further', 'then', 'once', 'here', 'there', 'when', 'where', 'why', 'how', 'all', 'any', 'both', 'each', 'few', 'more', 'most', 'other', 'some', 'such', 'no', 'nor', 'not', 'only', 'own', 'same', 'so', 'than', 'too', 'very', 's', 't', 'can', 'will', 'just', 'don', \"don't\", 'should', \"should've\", 'now', 'd', 'll', 'm', 'o', 're', 've', 'y', 'ain', 'aren', \"aren't\", 'couldn', \"couldn't\", 'didn', \"didn't\", 'doesn', \"doesn't\", 'hadn', \"hadn't\", 'hasn', \"hasn't\", 'haven', \"haven't\", 'isn', \"isn't\", 'ma', 'mightn', \"mightn't\", 'mustn', \"mustn't\", 'needn', \"needn't\", 'shan', \"shan't\", 'shouldn', \"shouldn't\", 'wasn', \"wasn't\", 'weren', \"weren't\", 'won', \"won't\", 'wouldn', \"wouldn't\"]\n"
          ]
        }
      ]
    },
    {
      "cell_type": "code",
      "source": [],
      "metadata": {
        "id": "I57Dsrg4AZoJ"
      },
      "execution_count": null,
      "outputs": []
    },
    {
      "cell_type": "markdown",
      "source": [
        "['i', 'me', 'my', 'myself', 'we', 'our', 'ours', 'ourselves', 'you', \"you're\", \"you've\", \"you'll\", \"you'd\", 'your', 'yours', 'yourself', 'yourselves', 'he', 'him', 'his', 'himself', 'she', \"she's\", 'her', 'hers', 'herself', 'it', \"it's\", 'its', 'itself', 'they', 'them', 'their', 'theirs', 'themselves', 'what', 'which', 'who', 'whom', 'this', 'that', \"that'll\", 'these', 'those', 'am', 'is', 'are', 'was', 'were', 'be', 'been', 'being', 'have', 'has', 'had', 'having', 'do', 'does', 'did', 'doing', 'a', 'an', 'the', 'and', 'but', 'if', 'or', 'because', 'as', 'until', 'while', 'of', 'at', 'by', 'for', 'with', 'about', 'against', 'between', 'into', 'through', 'during', 'before', 'after', 'above', 'below', 'to', 'from', 'up', 'down', 'in', 'out', 'on', 'off', 'over', 'under', 'again', 'further', 'then', 'once', 'here', 'there', 'when', 'where', 'why', 'how', 'all', 'any', 'both', 'each', 'few', 'more', 'most', 'other', 'some', 'such', 'no', 'nor', 'not', 'only', 'own', 'same', 'so', 'than', 'too', 'very', 's', 't', 'can', 'will', 'just', 'don', \"don't\", 'should', \"should've\", 'now', 'd', 'll', 'm', 'o', 're', 've', 'y', 'ain', 'aren', \"aren't\", 'couldn', \"couldn't\", 'didn', \"didn't\", 'doesn', \"doesn't\", 'hadn', \"hadn't\", 'hasn', \"hasn't\", 'haven', \"haven't\", 'isn', \"isn't\", 'ma', 'mightn', \"mightn't\", 'mustn', \"mustn't\", 'needn', \"needn't\", 'shan', \"shan't\", 'shouldn', \"shouldn't\", 'wasn', \"wasn't\", 'weren', \"weren't\", 'won', \"won't\", 'wouldn', \"wouldn't\"]\n"
      ],
      "metadata": {
        "id": "bjMHSjBuAga3"
      }
    },
    {
      "cell_type": "code",
      "source": [
        "print(len(stp))"
      ],
      "metadata": {
        "colab": {
          "base_uri": "https://localhost:8080/"
        },
        "id": "D1E8tA5_AjZN",
        "outputId": "5331f56b-3909-4b99-a71a-6630659ade54"
      },
      "execution_count": 25,
      "outputs": [
        {
          "output_type": "stream",
          "name": "stdout",
          "text": [
            "179\n"
          ]
        }
      ]
    },
    {
      "cell_type": "code",
      "source": [
        "text2=\"\"\"\"Himalayan rivers are formed by the melting of snow and glaciers and flow continuously throughout the year. During the monsoon months, \n",
        "the Himalayas experience frequent floods due to heavy rainfall. \"\"\""
      ],
      "metadata": {
        "id": "GZaJTY2XAyYh"
      },
      "execution_count": 26,
      "outputs": []
    },
    {
      "cell_type": "code",
      "source": [
        "words=[word for word in text2.split()if word.lower()not in stp]\n",
        "nwrd=''.join(words)\n",
        "print (words)\n",
        "print(nwrd)\n",
        "print(len(text2))\n",
        "print(len(words))\n",
        "print(len(nwrd))"
      ],
      "metadata": {
        "colab": {
          "base_uri": "https://localhost:8080/"
        },
        "id": "EepvecpmA__y",
        "outputId": "977c0bbe-28f6-48fd-e5a9-1daeebee6a53"
      },
      "execution_count": 27,
      "outputs": [
        {
          "output_type": "stream",
          "name": "stdout",
          "text": [
            "['\"Himalayan', 'rivers', 'formed', 'melting', 'snow', 'glaciers', 'flow', 'continuously', 'throughout', 'year.', 'monsoon', 'months,', 'Himalayas', 'experience', 'frequent', 'floods', 'due', 'heavy', 'rainfall.']\n",
            "\"Himalayanriversformedmeltingsnowglaciersflowcontinuouslythroughoutyear.monsoonmonths,Himalayasexperiencefrequentfloodsdueheavyrainfall.\n",
            "200\n",
            "19\n",
            "136\n"
          ]
        }
      ]
    },
    {
      "cell_type": "markdown",
      "source": [
        "# spacy"
      ],
      "metadata": {
        "id": "mO3sLdPsDuiH"
      }
    },
    {
      "cell_type": "code",
      "source": [
        "en=spacy.load('en_core_web_sm')\n",
        "sw_spacy=en.Defaults.stop_words\n",
        "print(sw_spacy)"
      ],
      "metadata": {
        "colab": {
          "base_uri": "https://localhost:8080/"
        },
        "id": "RxnapZLlDwGK",
        "outputId": "87541c6e-cb9a-491d-d4a7-674c6c5e29c1"
      },
      "execution_count": 28,
      "outputs": [
        {
          "output_type": "stream",
          "name": "stdout",
          "text": [
            "{'someone', 'hereafter', 'should', 'amongst', 'three', 'hence', 'might', 'herself', 'an', 'just', 'may', 'of', 'they', 'be', 'and', 'yourselves', 'them', 'empty', 'most', 'else', \"'ve\", 'doing', \"'d\", 'whoever', 'down', 'each', 'through', 'when', 'next', 'himself', 'eight', 'i', 'sixty', 'former', 'anything', 'have', 'seems', 'whereafter', 'ever', 'several', 'sometime', 'anyway', 'below', 'ca', \"'s\", 'own', 'which', 'unless', 'does', 'there', 'nine', 'on', 'some', 'least', 'mine', 'namely', 'themselves', 'sometimes', 'such', 'side', 'twelve', 'few', 'everything', 'but', 'also', 'except', 'yours', 'rather', 'over', 'are', 'thru', 'serious', 'therein', 'in', 'perhaps', 'something', 'enough', 'those', 'whatever', 'never', 'fifty', 'name', 'latterly', 'our', 'towards', 'into', 'than', 'n’t', 'other', 'while', 'front', '‘d', 'call', 'herein', 'that', 'top', '‘m', 'bottom', 'neither', 'under', 'beyond', 'less', 'third', 'him', 'thereafter', 'make', 'were', 'as', 'it', 'yet', 'six', 'hers', 'more', '‘s', 'show', 'above', 'where', 'me', 'from', 'up', 'her', 'around', 'throughout', 'another', 'nowhere', 'take', 'much', 'this', 'nevertheless', 'whereby', 'thence', 'made', '’d', 'becoming', 'is', 'used', 'was', 'did', 'often', 'so', 'although', 'alone', 'even', 'get', 'latter', 'nothing', 'its', 'still', 'n‘t', '’ve', 'go', 'whom', 'what', 'we', 'why', 'become', 'done', 'with', 'indeed', 'because', 'us', 'thus', 'again', 'became', 'always', 'besides', 'seemed', '’m', 'everyone', 'had', 'whether', 'nobody', 'been', 're', 'hereby', 'together', 'anyhow', 'among', 'meanwhile', 'do', 'who', 'using', '’re', 'wherein', 'after', 'cannot', 'part', 'beforehand', 'before', 'whereas', 'however', 'further', 'elsewhere', 'somehow', 'at', 'would', 'how', 'twenty', 'noone', 'put', 'same', 'ten', \"'re\", 'hereupon', 'forty', 'out', 'during', 'will', 'wherever', 'no', 'could', 'she', 'only', 'please', 'along', 'seeming', 'eleven', 'fifteen', 'nor', 'am', 'whenever', 'many', 'one', 'for', 'too', 'either', 'see', 'becomes', 'being', 'give', 'seem', 'yourself', 'hundred', 'then', 'myself', 'keep', 'a', 'others', 'move', 'can', 'both', '‘ll', 'within', 'now', 'your', 'you', 'not', 'back', 'their', 'my', 'regarding', 'therefore', 'whence', 'thereupon', 'itself', 'by', 'must', 'to', 'say', '’ll', 'very', 'any', 'almost', 'between', 'first', 'his', 'though', 'well', 'behind', 'afterwards', 'full', 'onto', 'anywhere', 'upon', 'he', 'if', 'without', 'the', 'whose', 'formerly', 'last', 'about', 'against', 'already', 'somewhere', 'really', 'five', 'amount', 'thereby', 'here', '’s', 'anyone', 'whereupon', 'everywhere', 'or', 'across', \"n't\", 'moreover', 'all', 'otherwise', 'mostly', \"'m\", 'has', 'whole', \"'ll\", '‘re', 'these', 'off', 'beside', 'various', 'since', 'once', 'quite', 'until', 'per', '‘ve', 'ours', 'via', 'toward', 'due', 'ourselves', 'four', 'none', 'whither', 'every', 'two'}\n"
          ]
        }
      ]
    },
    {
      "cell_type": "markdown",
      "source": [
        "{'were', 'too', 'down', 'yourselves', 'upon', 'but', 'via', 'perhaps', 'thru', 'seemed', 'sometime', 'mine', 'however', 'much', \"'m\", 'again', 'hereupon', 'just', 'others', 'ours', 'twelve', 'herself', 'you', 'keep', 'several', 'how', 'name', 'anyway', 'often', 'back', \"'re\", 'anything', \"'ve\", 'seeming', 'along', 'always', 'become', 'least', 'serious', 'also', 'n’t', 'otherwise', 'are', 'sometimes', 'than', 'throughout', 'three', 'empty', 'could', 'front', 'due', 'among', 'of', 'thereafter', 'will', 'any', 'with', 'what', 'all', 'might', 'a', 'using', 'something', 'for', 'us', 'nowhere', 'before', 'her', 'must', 'into', 'yours', 'own', 'yourself', 'between', 'by', 'does', 'please', 'themselves', 'whereafter', 'whither', 'two', 'then', 'seems', 'once', 'would', 'do', 'same', 'none', 'both', 'everywhere', 'who', 'should', 'well', 'their', 'through', 'sixty', '‘d', '‘s', 'fifteen', 'first', 'at', '’ve', 'he', 'towards', 'off', 'above', 'few', 'eleven', 'top', 'itself', 'now', 'this', 'where', 'him', 'its', 'ourselves', 'became', 'more', 'besides', 'one', 'did', 'around', 'whereas', '’m', 'next', 'nothing', 'doing', 'yet', 'whereupon', 'hereby', 'see', 'quite', 'the', 'hundred', 'an', 'per', 'against', 'else', 'ten', 'therein', 'rather', 'everyone', 'why', 'here', 'since', '’d', 'meanwhile', 'someone', 'anyone', 'toward', 'most', 'if', 'anywhere', 'they', 'mostly', 'whatever', 'five', 'across', 'seem', 'call', 'becoming', 'almost', 'thereby', 'whose', 'within', 'beside', 'onto', 'under', 'those', 'eight', 'myself', '‘ve', 'she', 'we', '‘m', 'part', 'about', 'nine', 'last', 'himself', 'below', 'in', 'there', 'while', 'so', 'enough', 'former', 'whereby', 'out', 'some', 'except', 'was', 'has', 'as', 'move', 'from', 'further', 'alone', 'or', 'being', 'therefore', '‘re', 'show', 'which', 'whom', 'have', 'afterwards', 'his', 'nor', 'whoever', 'put', 'whether', 'elsewhere', 'not', 'less', 'to', 'forty', 'either', 'amongst', 'bottom', 'during', 'behind', 'say', 'your', \"'ll\", 'amount', 'wherein', 'make', 'four', 'side', 'even', 'give', 'is', 'thus', 'twenty', '’s', 'becomes', 'hereafter', 'hence', 'been', 'everything', 'formerly', 'made', 'somehow', '‘ll', 'may', 'already', 'and', \"'d\", 'beyond', 'moreover', 'each', 'i', 'thence', 'fifty', 'because', 'until', 'though', 'up', 'hers', 'whenever', 'other', 'herein', 'no', 'latterly', 'these', 'without', 'nobody', 'six', 'n‘t', 'them', 'done', 'wherever', 'get', '’re', 'unless', 'had', 'take', 'regarding', 're', 'cannot', 'on', \"'s\", 'after', 'noone', 'it', 'go', 'thereupon', '’ll', 'only', 'many', 'latter', 'whence', 'my', 'together', 'somewhere', 'third', 'nevertheless', 'neither', 'another', 'be', \"n't\", 'never', 'still', 'full', 'over', 'beforehand', 'ever', 'ca', 'when', 'very', 'anyhow', 'used', 'that', 'various', 'me', 'namely', 'indeed', 'every', 'although', 'really', 'such', 'our', 'can', 'am', 'whole'}\n"
      ],
      "metadata": {
        "id": "QRBocu8EEk2p"
      }
    },
    {
      "cell_type": "code",
      "source": [
        "\n",
        "print(len(sw_spacy))"
      ],
      "metadata": {
        "colab": {
          "base_uri": "https://localhost:8080/"
        },
        "id": "E7Zai-PyEMkR",
        "outputId": "5f7e3131-7bc4-427d-97c9-62e4a6f96cd7"
      },
      "execution_count": 29,
      "outputs": [
        {
          "output_type": "stream",
          "name": "stdout",
          "text": [
            "326\n"
          ]
        }
      ]
    },
    {
      "cell_type": "code",
      "source": [
        "words=[word for word in text2.split()if word.lower()not in sw_spacy]\n",
        "nwrd=''.join(words)\n",
        "print (words)\n",
        "print(nwrd)\n",
        "print(len(text2))\n",
        "print(len(words))\n",
        "print(len(nwrd))"
      ],
      "metadata": {
        "colab": {
          "base_uri": "https://localhost:8080/"
        },
        "id": "VkFfTFpDEuy-",
        "outputId": "fb213857-b206-4fd5-eca9-a316f43ef81a"
      },
      "execution_count": 30,
      "outputs": [
        {
          "output_type": "stream",
          "name": "stdout",
          "text": [
            "['\"Himalayan', 'rivers', 'formed', 'melting', 'snow', 'glaciers', 'flow', 'continuously', 'year.', 'monsoon', 'months,', 'Himalayas', 'experience', 'frequent', 'floods', 'heavy', 'rainfall.']\n",
            "\"Himalayanriversformedmeltingsnowglaciersflowcontinuouslyyear.monsoonmonths,Himalayasexperiencefrequentfloodsheavyrainfall.\n",
            "200\n",
            "17\n",
            "123\n"
          ]
        }
      ]
    },
    {
      "cell_type": "markdown",
      "source": [
        "#gensim"
      ],
      "metadata": {
        "id": "7zDpqSBhHehj"
      }
    },
    {
      "cell_type": "code",
      "source": [
        "from gensim.parsing.preprocessing import remove_stopwords,STOPWORDS\n",
        "print(STOPWORDS)"
      ],
      "metadata": {
        "colab": {
          "base_uri": "https://localhost:8080/"
        },
        "id": "MbGmMLC2Fh0a",
        "outputId": "bb43bb72-3223-4e18-88ec-866af69ceb03"
      },
      "execution_count": 31,
      "outputs": [
        {
          "output_type": "stream",
          "name": "stdout",
          "text": [
            "frozenset({'fify', 'someone', 'cry', 'hereafter', 'should', 'amongst', 'three', 'hence', 'might', 'herself', 'kg', 'an', 'just', 'may', 'of', 'they', 'bill', 'thin', 'be', 'and', 'fire', 'yourselves', 'amoungst', 'them', 'empty', 'most', 'else', 'doing', 'whoever', 'down', 'each', 'through', 'fill', 'when', 'next', 'himself', 'sixty', 'eight', 'i', 'former', 'anything', 'have', 'seems', 'whereafter', 'several', 'sometime', 'ever', 'anyway', 'below', 'own', 'which', 'unless', 'does', 'there', 'nine', 'on', 'some', 'mine', 'least', 'namely', 'themselves', 'sometimes', 'such', 'side', 'few', 'twelve', 'everything', 'but', 'etc', 'also', 'except', 'yours', 'rather', 'over', 'are', 'two', 'thru', 'serious', 'therein', 'something', 'eg', 'in', 'enough', 'those', 'perhaps', 'whatever', 'never', 'name', 'latterly', 'our', 'towards', 'into', 'de', 'than', 'other', 'while', 'front', 'co', 'call', 'cant', 'herein', 'that', 'top', 'interest', 'bottom', 'neither', 'under', 'beyond', 'sincere', 'less', 'third', 'him', 'thereafter', 'make', 'were', 'as', 'it', 'yet', 'find', 'six', 'hers', 'more', 'show', 'above', 'mill', 'where', 'found', 'me', 'from', 'up', 'her', 'around', 'throughout', 'another', 'ltd', 'nowhere', 'take', 'much', 'this', 'nevertheless', 'whereby', 'thence', 'thick', 'made', 'doesn', 'becoming', 'is', 'used', 'was', 'did', 'often', 'so', 'although', 'alone', 'get', 'even', 'latter', 'nothing', 'its', 'still', 'whom', 'go', 'what', 'we', 'computer', 'why', 'become', 'done', 'with', 'indeed', 'because', 'us', 'thus', 'again', 'became', 'always', 'besides', 'seemed', 'everyone', 'had', 'whether', 'nobody', 'been', 're', 'hereby', 'together', 'anyhow', 'among', 'meanwhile', 'do', 'didn', 'who', 'using', 'wherein', 'con', 'after', 'cannot', 'part', 'beforehand', 'before', 'whereas', 'however', 'further', 'elsewhere', 'somehow', 'would', 'at', 'how', 'twenty', 'noone', 'put', 'same', 'ten', 'hereupon', 'out', 'forty', 'describe', 'during', 'wherever', 'will', 'no', 'could', 'she', 'only', 'please', 'along', 'seeming', 'hasnt', 'eleven', 'fifteen', 'nor', 'am', 'whenever', 'many', 'one', 'for', 'too', 'either', 'see', 'becomes', 'being', 'give', 'seem', 'hundred', 'yourself', 'km', 'then', 'myself', 'keep', 'others', 'a', 'move', 'can', 'inc', 'system', 'both', 'within', 'now', 'your', 'you', 'not', 'back', 'their', 'regarding', 'therefore', 'my', 'ie', 'whence', 'thereupon', 'itself', 'by', 'must', 'to', 'say', 'very', 'detail', 'almost', 'between', 'though', 'his', 'first', 'well', 'behind', 'afterwards', 'don', 'full', 'onto', 'anywhere', 'upon', 'he', 'if', 'without', 'the', 'whose', 'last', 'formerly', 'about', 'against', 'already', 'somewhere', 'really', 'five', 'amount', 'thereby', 'here', 'anyone', 'whereupon', 'everywhere', 'or', 'across', 'moreover', 'all', 'otherwise', 'mostly', 'has', 'whole', 'un', 'these', 'off', 'beside', 'various', 'since', 'once', 'quite', 'until', 'per', 'ours', 'via', 'toward', 'couldnt', 'due', 'ourselves', 'four', 'none', 'whither', 'every', 'any'})\n"
          ]
        }
      ]
    },
    {
      "cell_type": "code",
      "source": [
        "len(STOPWORDS)"
      ],
      "metadata": {
        "colab": {
          "base_uri": "https://localhost:8080/"
        },
        "id": "7zMLPhnjF3jV",
        "outputId": "e60907a9-edbd-4178-e042-94a7ae9fc26b"
      },
      "execution_count": 32,
      "outputs": [
        {
          "output_type": "execute_result",
          "data": {
            "text/plain": [
              "337"
            ]
          },
          "metadata": {},
          "execution_count": 32
        }
      ]
    },
    {
      "cell_type": "code",
      "source": [],
      "metadata": {
        "id": "ECkQinxbF5m2"
      },
      "execution_count": 32,
      "outputs": []
    },
    {
      "cell_type": "markdown",
      "source": [
        "frozenset({'were', 'too', 'down', 'yourselves', 'upon', 'but', 'via', 'perhaps', 'thru', 'fire', 'seemed', 'sometime', 'mine', 'however', 'etc', 'much', 'again', 'hereupon', 'just', 'others', 'ours', 'twelve', 'herself', 'you', 'keep', 'several', 'how', 'name', 'anyway', 'often', 'back', 'anything', 'seeming', 'along', 'always', 'become', 'least', 'serious', 'also', 'otherwise', 'are', 'sometimes', 'than', 'throughout', 'three', 'empty', 'front', 'could', 'due', 'among', 'of', 'thereafter', 'will', 'any', 'with', 'what', 'all', 'might', 'using', 'a', 'something', 'for', 'us', 'doesn', 'nowhere', 'before', 'her', 'must', 'into', 'yours', 'own', 'yourself', 'km', 'between', 'by', 'does', 'please', 'themselves', 'whereafter', 'whither', 'two', 'then', 'inc', 'seems', 'once', 'would', 'cry', 'do', 'same', 'none', 'both', 'everywhere', 'who', 'should', 'well', 'through', 'their', 'sixty', 'fify', 'fifteen', 'first', 'at', 'he', 'towards', 'off', 'above', 'few', 'eleven', 'top', 'itself', 'now', 'this', 'where', 'him', 'ourselves', 'its', 'became', 'more', 'besides', 'one', 'did', 'around', 'couldnt', 'whereas', 'next', 'nothing', 'doing', 'interest', 'yet', 'whereupon', 'hereby', 'see', 'quite', 'the', 'hundred', 'system', 'eg', 'an', 'per', 'ten', 'therein', 'against', 'else', 'rather', 'everyone', 'why', 'since', 'here', 'meanwhile', 'someone', 'anyone', 'toward', 'hasnt', 'most', 'if', 'anywhere', 'they', 'mostly', 'whatever', 'five', 'across', 'seem', 'call', 'becoming', 'almost', 'don', 'thereby', 'whose', 'within', 'find', 'beside', 'onto', 'under', 'those', 'eight', 'myself', 'she', 'we', 'part', 'about', 'nine', 'last', 'there', 'himself', 'below', 'in', 'while', 'so', 'enough', 'former', 'whereby', 'some', 'out', 'co', 'except', 'con', 'was', 'has', 'as', 'move', 'from', 'found', 'further', 'alone', 'or', 'being', 'therefore', 'show', 'cant', 'which', 'whom', 'un', 'have', 'afterwards', 'his', 'nor', 'whoever', 'put', 'whether', 'ie', 'elsewhere', 'not', 'less', 'to', 'ltd', 'forty', 'either', 'amongst', 'bottom', 'during', 'behind', 'say', 'your', 'amount', 'wherein', 'make', 'four', 'side', 'even', 'give', 'is', 'thus', 'twenty', 'bill', 'thick', 'becomes', 'hereafter', 'hence', 'been', 'everything', 'formerly', 'made', 'somehow', 'may', 'already', 'and', 'beyond', 'moreover', 'each', 'i', 'thence', 'fill', 'because', 'until', 'though', 'up', 'hers', 'whenever', 'kg', 'herein', 'other', 'no', 'de', 'latterly', 'mill', 'these', 'without', 'nobody', 'six', 'them', 'done', 'wherever', 'get', 'computer', 'unless', 'had', 'take', 'regarding', 're', 'cannot', 'on', 'after', 'noone', 'it', 'go', 'thereupon', 'sincere', 'only', 'didn', 'many', 'latter', 'whence', 'my', 'together', 'somewhere', 'third', 'nevertheless', 'neither', 'be', 'another', 'never', 'still', 'full', 'over', 'describe', 'beforehand', 'ever', 'when', 'very', 'detail', 'used', 'various', 'anyhow', 'that', 'me', 'namely', 'indeed', 'every', 'although', 'thin', 'really', 'such', 'our', 'amoungst', 'can', 'am', 'whole'})\n"
      ],
      "metadata": {
        "id": "AnelM6HBGAEX"
      }
    },
    {
      "cell_type": "code",
      "source": [
        "nw_words=remove_stopwords(text2)\n",
        "\n",
        "print (nw_words)\n",
        "\n",
        "print(len(text2))\n",
        "print(len(nw_words))\n"
      ],
      "metadata": {
        "colab": {
          "base_uri": "https://localhost:8080/"
        },
        "id": "GMvzYovEGBAv",
        "outputId": "f539065d-cd92-4d2f-a6af-4f4a87bd41a9"
      },
      "execution_count": 33,
      "outputs": [
        {
          "output_type": "stream",
          "name": "stdout",
          "text": [
            "\"Himalayan rivers formed melting snow glaciers flow continuously year. During monsoon months, Himalayas experience frequent floods heavy rainfall.\n",
            "200\n",
            "146\n"
          ]
        }
      ]
    },
    {
      "cell_type": "markdown",
      "source": [
        "#Scikitlearn"
      ],
      "metadata": {
        "id": "OiGCuxwKHjRi"
      }
    },
    {
      "cell_type": "code",
      "source": [
        "from sklearn.feature_extraction.text import ENGLISH_STOP_WORDS\n",
        "print(ENGLISH_STOP_WORDS)"
      ],
      "metadata": {
        "colab": {
          "base_uri": "https://localhost:8080/"
        },
        "id": "Qsz2gKJ5Hms6",
        "outputId": "0e4401a0-36da-49da-d2cd-56faa2b1fb5a"
      },
      "execution_count": 34,
      "outputs": [
        {
          "output_type": "stream",
          "name": "stdout",
          "text": [
            "frozenset({'someone', 'cry', 'hereafter', 'should', 'amongst', 'three', 'hence', 'might', 'herself', 'an', 'may', 'of', 'bill', 'they', 'thin', 'be', 'and', 'fire', 'yourselves', 'amoungst', 'them', 'empty', 'most', 'else', 'whoever', 'down', 'each', 'through', 'fill', 'when', 'next', 'himself', 'eight', 'i', 'sixty', 'former', 'anything', 'have', 'seems', 'whereafter', 'ever', 'several', 'sometime', 'anyway', 'below', 'own', 'which', 'there', 'nine', 'on', 'some', 'least', 'mine', 'namely', 'themselves', 'sometimes', 'such', 'side', 'twelve', 'few', 'everything', 'but', 'etc', 'also', 'except', 'yours', 'rather', 'over', 'are', 'thru', 'serious', 'therein', 'in', 'eg', 'perhaps', 'enough', 'something', 'those', 'whatever', 'never', 'fifty', 'name', 'latterly', 'our', 'towards', 'into', 'de', 'than', 'other', 'while', 'front', 'co', 'call', 'cant', 'herein', 'that', 'top', 'interest', 'bottom', 'neither', 'under', 'beyond', 'sincere', 'less', 'third', 'him', 'thereafter', 'were', 'as', 'it', 'yet', 'find', 'six', 'hers', 'more', 'show', 'above', 'mill', 'where', 'found', 'me', 'from', 'up', 'her', 'around', 'throughout', 'another', 'ltd', 'nowhere', 'take', 'much', 'this', 'nevertheless', 'whereby', 'thence', 'thick', 'made', 'becoming', 'is', 'was', 'often', 'so', 'although', 'alone', 'even', 'get', 'latter', 'nothing', 'its', 'still', 'go', 'whom', 'what', 'we', 'why', 'become', 'done', 'with', 'indeed', 'because', 'us', 'thus', 'again', 'became', 'always', 'besides', 'seemed', 'everyone', 'had', 'whether', 'nobody', 'been', 're', 'hereby', 'together', 'anyhow', 'among', 'meanwhile', 'do', 'who', 'wherein', 'con', 'after', 'cannot', 'part', 'beforehand', 'before', 'whereas', 'however', 'further', 'elsewhere', 'somehow', 'at', 'would', 'how', 'twenty', 'noone', 'put', 'same', 'ten', 'hereupon', 'forty', 'out', 'describe', 'during', 'wherever', 'no', 'will', 'could', 'she', 'only', 'please', 'along', 'seeming', 'hasnt', 'eleven', 'fifteen', 'nor', 'am', 'whenever', 'many', 'one', 'for', 'too', 'either', 'see', 'becomes', 'being', 'give', 'seem', 'hundred', 'yourself', 'then', 'myself', 'keep', 'a', 'others', 'move', 'can', 'inc', 'both', 'system', 'within', 'now', 'your', 'you', 'not', 'back', 'their', 'my', 'ie', 'therefore', 'whence', 'thereupon', 'itself', 'by', 'must', 'to', 'detail', 'very', 'almost', 'any', 'between', 'first', 'his', 'though', 'well', 'behind', 'afterwards', 'full', 'onto', 'anywhere', 'upon', 'he', 'if', 'without', 'the', 'whose', 'formerly', 'last', 'about', 'against', 'already', 'somewhere', 'five', 'amount', 'thereby', 'here', 'anyone', 'whereupon', 'everywhere', 'or', 'across', 'moreover', 'all', 'otherwise', 'mostly', 'has', 'whole', 'un', 'these', 'off', 'beside', 'since', 'once', 'until', 'per', 'ours', 'via', 'toward', 'couldnt', 'due', 'ourselves', 'four', 'none', 'whither', 'every', 'two'})\n"
          ]
        }
      ]
    },
    {
      "cell_type": "markdown",
      "source": [
        "frozenset({'were', 'too', 'down', 'yourselves', 'upon', 'but', 'via', 'perhaps', 'fire', 'thru', 'seemed', 'sometime', 'mine', 'etc', 'however', 'much', 'again', 'hereupon', 'others', 'ours', 'twelve', 'herself', 'you', 'keep', 'several', 'how', 'name', 'anyway', 'often', 'back', 'anything', 'seeming', 'along', 'always', 'become', 'least', 'serious', 'also', 'otherwise', 'are', 'sometimes', 'than', 'throughout', 'three', 'empty', 'could', 'front', 'due', 'among', 'of', 'thereafter', 'will', 'any', 'with', 'what', 'all', 'might', 'a', 'something', 'for', 'us', 'nowhere', 'before', 'her', 'must', 'into', 'yours', 'own', 'yourself', 'between', 'by', 'please', 'themselves', 'whereafter', 'whither', 'two', 'then', 'inc', 'seems', 'once', 'would', 'cry', 'do', 'same', 'none', 'both', 'everywhere', 'who', 'should', 'well', 'their', 'through', 'sixty', 'fifteen', 'first', 'at', 'he', 'towards', 'off', 'above', 'few', 'eleven', 'top', 'itself', 'now', 'this', 'where', 'him', 'its', 'ourselves', 'became', 'more', 'besides', 'one', 'around', 'couldnt', 'whereas', 'next', 'nothing', 'interest', 'yet', 'whereupon', 'hereby', 'see', 'the', 'hundred', 'system', 'eg', 'an', 'per', 'against', 'else', 'ten', 'therein', 'rather', 'everyone', 'why', 'here', 'since', 'meanwhile', 'someone', 'anyone', 'toward', 'hasnt', 'most', 'if', 'anywhere', 'they', 'mostly', 'whatever', 'five', 'across', 'seem', 'call', 'becoming', 'almost', 'thereby', 'whose', 'within', 'find', 'beside', 'onto', 'under', 'those', 'eight', 'myself', 'she', 'we', 'part', 'about', 'nine', 'last', 'himself', 'below', 'in', 'there', 'while', 'so', 'enough', 'former', 'whereby', 'out', 'co', 'some', 'except', 'con', 'was', 'has', 'as', 'move', 'from', 'found', 'further', 'alone', 'or', 'being', 'therefore', 'show', 'cant', 'which', 'whom', 'un', 'have', 'afterwards', 'his', 'nor', 'whoever', 'put', 'ie', 'whether', 'elsewhere', 'ltd', 'less', 'not', 'to', 'forty', 'either', 'amongst', 'bottom', 'during', 'behind', 'your', 'amount', 'wherein', 'four', 'side', 'even', 'give', 'is', 'bill', 'thus', 'twenty', 'thick', 'becomes', 'hereafter', 'hence', 'been', 'everything', 'formerly', 'made', 'somehow', 'may', 'already', 'and', 'beyond', 'moreover', 'each', 'i', 'thence', 'fill', 'fifty', 'because', 'until', 'though', 'up', 'hers', 'whenever', 'other', 'herein', 'no', 'de', 'latterly', 'mill', 'these', 'without', 'nobody', 'six', 'them', 'done', 'wherever', 'get', 'had', 'take', 're', 'cannot', 'on', 'after', 'noone', 'it', 'go', 'thereupon', 'sincere', 'only', 'many', 'latter', 'whence', 'my', 'together', 'somewhere', 'third', 'nevertheless', 'neither', 'another', 'be', 'never', 'still', 'full', 'over', 'describe', 'beforehand', 'ever', 'when', 'very', 'detail', 'anyhow', 'that', 'me', 'namely', 'indeed', 'every', 'although', 'thin', 'such', 'our', 'amoungst', 'can', 'am', 'whole'})\n"
      ],
      "metadata": {
        "id": "Dfe19sOHH9g1"
      }
    },
    {
      "cell_type": "code",
      "source": [
        "len(ENGLISH_STOP_WORDS)"
      ],
      "metadata": {
        "colab": {
          "base_uri": "https://localhost:8080/"
        },
        "id": "sC5Bl11IH2BD",
        "outputId": "f870ac2c-8a53-438d-e540-d43854029dd6"
      },
      "execution_count": 35,
      "outputs": [
        {
          "output_type": "execute_result",
          "data": {
            "text/plain": [
              "318"
            ]
          },
          "metadata": {},
          "execution_count": 35
        }
      ]
    },
    {
      "cell_type": "code",
      "source": [
        "words=[word for word in text2.split()if word.lower()not in ENGLISH_STOP_WORDS ]\n",
        "nwrd=''.join(words)\n",
        "print (words)\n",
        "print(nwrd)\n",
        "print(len(text2))\n",
        "print(len(words))\n",
        "print(len(nwrd))"
      ],
      "metadata": {
        "colab": {
          "base_uri": "https://localhost:8080/"
        },
        "id": "qJJggvqHIQNO",
        "outputId": "b7e97baa-2d77-4ae3-9fb7-d9ca01d09a3e"
      },
      "execution_count": 36,
      "outputs": [
        {
          "output_type": "stream",
          "name": "stdout",
          "text": [
            "['\"Himalayan', 'rivers', 'formed', 'melting', 'snow', 'glaciers', 'flow', 'continuously', 'year.', 'monsoon', 'months,', 'Himalayas', 'experience', 'frequent', 'floods', 'heavy', 'rainfall.']\n",
            "\"Himalayanriversformedmeltingsnowglaciersflowcontinuouslyyear.monsoonmonths,Himalayasexperiencefrequentfloodsheavyrainfall.\n",
            "200\n",
            "17\n",
            "123\n"
          ]
        }
      ]
    },
    {
      "cell_type": "markdown",
      "source": [
        "# adding custom stop words"
      ],
      "metadata": {
        "id": "shIDiWBnId5M"
      }
    },
    {
      "cell_type": "code",
      "source": [
        "stp.extend(['himalayan'])\n",
        "print(len(stp))"
      ],
      "metadata": {
        "colab": {
          "base_uri": "https://localhost:8080/"
        },
        "id": "j5qvr_tlIgx_",
        "outputId": "1e39b8fb-e295-473c-fe37-831ec74b2247"
      },
      "execution_count": 37,
      "outputs": [
        {
          "output_type": "stream",
          "name": "stdout",
          "text": [
            "180\n"
          ]
        }
      ]
    },
    {
      "cell_type": "markdown",
      "source": [
        "#remove stop words"
      ],
      "metadata": {
        "id": "l3FJUeFAJS6P"
      }
    },
    {
      "cell_type": "code",
      "source": [
        "stp.remove('not')\n",
        "print(len(stp))"
      ],
      "metadata": {
        "colab": {
          "base_uri": "https://localhost:8080/"
        },
        "id": "LkxbrY-9JRsw",
        "outputId": "6304f558-cb99-4bbe-a33d-15575c83551a"
      },
      "execution_count": 38,
      "outputs": [
        {
          "output_type": "stream",
          "name": "stdout",
          "text": [
            "179\n"
          ]
        }
      ]
    },
    {
      "cell_type": "markdown",
      "source": [
        "# creating own stop words without lib"
      ],
      "metadata": {
        "id": "4ciaPZEpJlVC"
      }
    },
    {
      "cell_type": "code",
      "source": [
        "text2=\"\"\"\"Himalayan rivers are formed by the melting of snow and glaciers and flow continuously throughout the year. During the monsoon months, \n",
        "the Himalayas experience frequent floods due to heavy rainfall. \"\"\""
      ],
      "metadata": {
        "id": "BARxg2_fJgo8"
      },
      "execution_count": 41,
      "outputs": []
    },
    {
      "cell_type": "code",
      "source": [
        "mt_stp=['to','the','in']\n",
        "words=[word for word in text2.split()if word.lower() not in mt_stp]\n",
        "nwrd=''.join(words)\n",
        "print(nwrd)\n",
        "print(len(text2))\n",
        "print(len(mt_stp))\n",
        "print(len(nwrd))\n"
      ],
      "metadata": {
        "colab": {
          "base_uri": "https://localhost:8080/"
        },
        "id": "Iwlk_WbEJsJY",
        "outputId": "7a9b7ad4-87f0-4e1c-9451-97d63732ade3"
      },
      "execution_count": 44,
      "outputs": [
        {
          "output_type": "stream",
          "name": "stdout",
          "text": [
            "\"Himalayanriversareformedbymeltingofsnowandglaciersandflowcontinuouslythroughoutyear.Duringmonsoonmonths,Himalayasexperiencefrequentfloodsdueheavyrainfall.\n",
            "200\n",
            "3\n",
            "155\n"
          ]
        }
      ]
    },
    {
      "cell_type": "code",
      "source": [
        "print(words)\n",
        "print(len(words))"
      ],
      "metadata": {
        "colab": {
          "base_uri": "https://localhost:8080/"
        },
        "id": "06ip_uEJKXq7",
        "outputId": "99ad34f6-d74b-4bcf-e96d-cd3fb701d849"
      },
      "execution_count": 45,
      "outputs": [
        {
          "output_type": "stream",
          "name": "stdout",
          "text": [
            "['\"Himalayan', 'rivers', 'are', 'formed', 'by', 'melting', 'of', 'snow', 'and', 'glaciers', 'and', 'flow', 'continuously', 'throughout', 'year.', 'During', 'monsoon', 'months,', 'Himalayas', 'experience', 'frequent', 'floods', 'due', 'heavy', 'rainfall.']\n",
            "25\n"
          ]
        }
      ]
    }
  ]
}